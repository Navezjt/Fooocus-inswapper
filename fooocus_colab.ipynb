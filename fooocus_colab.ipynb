{
 "cells": [
  {
   "cell_type": "code",
   "execution_count": null,
   "metadata": {
    "id": "VjYy0F2gZIPR"
   },
   "outputs": [],
   "source": [
    "!pip install pygit2==1.12.2\n",
    "%cd /content\n",
    "!git clone https://github.com/machineminded/Fooocus-inswapper.git\n",
    "!git checkout feature/instantid\n",
    "%cd /content/Fooocus-inswapper\n",
    "!chmod +x configure-colab.sh\n",
    "!/content/Fooocus-inswapper/configure-colab.sh\n",
    "# %pip install -r requirements_versions.txt\n",
    "\n",
    "!python launch.py --share"
   ]
  }
 ],
 "metadata": {
  "accelerator": "GPU",
  "colab": {
   "gpuType": "T4",
   "provenance": []
  },
  "kernelspec": {
   "display_name": "Python 3.10.9 ('venv': venv)",
   "language": "python",
   "name": "python3"
  },
  "language_info": {
   "name": "python",
   "version": "3.10.9"
  },
  "vscode": {
   "interpreter": {
    "hash": "886f135d3f951edb8038fee7cc7613ba43eae49c7ff1965a1a83633a45fc6296"
   }
  }
 },
 "nbformat": 4,
 "nbformat_minor": 0
}
